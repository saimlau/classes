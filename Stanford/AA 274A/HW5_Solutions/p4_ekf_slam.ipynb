{
 "cells": [
  {
   "cell_type": "markdown",
   "metadata": {},
   "source": [
    "# Problem 4: Extended Kalman Filter for SLAM"
   ]
  },
  {
   "cell_type": "code",
   "execution_count": null,
   "metadata": {},
   "outputs": [],
   "source": [
    "import numpy as np\n",
    "import matplotlib.pyplot as plt\n",
    "import matplotlib.patches as patches\n",
    "\n",
    "np.random.seed(123456)"
   ]
  },
  {
   "cell_type": "markdown",
   "metadata": {},
   "source": [
    "## Simulation Setup"
   ]
  },
  {
   "cell_type": "code",
   "execution_count": null,
   "metadata": {},
   "outputs": [],
   "source": [
    "# Timesteps.\n",
    "dt = 0.1\n",
    "tf = 15\n",
    "time = np.arange(0, tf+dt, dt)\n",
    "\n",
    "# Ground-truth landmark positions.\n",
    "xm = np.array([0, 0, 2, 8, 8, 2, 10, 10])\n",
    "mr = len(xm) % 2"
   ]
  },
  {
   "cell_type": "markdown",
   "metadata": {},
   "source": [
    "## Dynamics and Measurement Equations"
   ]
  },
  {
   "cell_type": "code",
   "execution_count": null,
   "metadata": {},
   "outputs": [],
   "source": [
    "def dynamics_model(\n",
    "    x: np.ndarray, \n",
    "    v: float, \n",
    "    omega: float,\n",
    ") -> np.ndarray:\n",
    "    \"\"\"Kalman Filter dynamics model.\n",
    "\n",
    "    NOTE: This dynamics model includes dynamics of both robot and landmarks.\n",
    "\n",
    "    Args:\n",
    "        x (np.ndarray): Robot + Landmark concatenated state.\n",
    "        v (float): Linear velocity command.\n",
    "        omega (float): Angular velocity command.\n",
    "\n",
    "    Returns:\n",
    "        np.ndarray: Next robot state.\n",
    "    \"\"\"\n",
    "    px = x[0]\n",
    "    py = x[1]\n",
    "    th = x[2]\n",
    "    m = x[3::]\n",
    "\n",
    "    f_robot = np.array([px + dt * v * np.cos(th),\n",
    "                        py + dt * v * np.sin(th),\n",
    "                        th + dt * omega])\n",
    "\n",
    "    return np.hstack((f_robot, m))\n",
    "\n",
    "def measurement_model(\n",
    "    x: np.ndarray,\n",
    ") -> np.ndarray:\n",
    "    \"\"\"Kalman Filter measurement model.\n",
    "    \n",
    "    NOTE: This measurement model corresponds to Eq. (4) in the\n",
    "          homework PDF document.\n",
    "\n",
    "    Args:\n",
    "        x (np.ndarray): Robot + Landmark concatenated state.\n",
    "    \n",
    "    Returns:\n",
    "        np.ndarray: Expected measurement.\n",
    "    \"\"\"\n",
    "    px = x[0]\n",
    "    py = x[1]\n",
    "    th = x[2]\n",
    "    m = x[3::]\n",
    "\n",
    "    rot_mtx = np.array([[np.cos(th), np.sin(th)],\n",
    "                        [-np.sin(th), np.cos(th)]])\n",
    "\n",
    "    rot_mtx_tile = np.kron(np.eye(4, dtype=int),rot_mtx)\n",
    "    robot_position_tile = np.tile(np.array([px, py]), (4,))\n",
    "    return rot_mtx_tile @ (m - robot_position_tile)\n",
    "\n",
    "def getG(\n",
    "    x: np.ndarray, \n",
    "    v: float, \n",
    "    omega: float,\n",
    "):\n",
    "    \"\"\"Computes the Jacobian of the dynamics model with respect \n",
    "    to the robot state and input commands.\n",
    "    \n",
    "    Args:\n",
    "        x (np.ndarray): Robot + Landmark concatenated state.\n",
    "        v (float): Linear velocity command.\n",
    "        omega (float): Angular velocity command.\n",
    "    \n",
    "    Returns:\n",
    "        G (np.ndarray): Jacobian of the dynamics model.\n",
    "    \"\"\"\n",
    "    ####################### Code starts here #######################\n",
    "\n",
    "    ####################### Code ends here #######################\n",
    "    return G\n",
    "\n",
    "\n",
    "def getH(\n",
    "    x: np.ndarray, \n",
    ") -> np.ndarray:\n",
    "    \"\"\"Computes the Jacobian of the measurement model with respect\n",
    "    to the robot state and the landmark positions.\n",
    "    \n",
    "    Args:\n",
    "        x (np.ndarray): Robot + Landmark concatenated state.\n",
    "    Returns:\n",
    "        H (np.ndarray): Jacobian of the measurement model.\n",
    "    \"\"\"\n",
    "    ####################### Code starts here #######################\n",
    "\n",
    "    ####################### Code ends here #######################\n",
    "    return H"
   ]
  },
  {
   "cell_type": "markdown",
   "metadata": {},
   "source": [
    "## Extended Kalman Filter Setup"
   ]
  },
  {
   "cell_type": "code",
   "execution_count": null,
   "metadata": {},
   "outputs": [],
   "source": [
    "# Ground-truth states (simulated).\n",
    "x = np.zeros((11, len(time)))\n",
    "x[0:3, 0] = np.array([1, 1, 0])\n",
    "x[3::, 0] = np.array([0, 0, 2, 8, 8, 2, 10, 10])\n",
    "\n",
    "# Estimated states (Kalman Filter).\n",
    "mu_ekf = np.zeros((11, len(time)))\n",
    "cov_ekf = [np.eye(11) for _ in range(len(time))]\n",
    "\n",
    "# Initial state and state covariance estimate.\n",
    "init_mu_std = 0.1\n",
    "mu_ekf[:, 0] = x[:,0] + np.random.multivariate_normal(np.zeros((11,)), init_mu_std*np.eye(11))\n",
    "\n",
    "# Process and observation noise.\n",
    "Q = (dt**2 * 0.1) * np.eye(11)\n",
    "Q[3::, 3::] = np.zeros((8,8))\n",
    "R = 0.25 * np.eye(8)"
   ]
  },
  {
   "cell_type": "markdown",
   "metadata": {},
   "source": [
    "# Extended Kalman Filter Implementation"
   ]
  },
  {
   "cell_type": "code",
   "execution_count": null,
   "metadata": {},
   "outputs": [],
   "source": [
    "for i in range(1, len(time)):\n",
    "    ### Simulation.\n",
    "\n",
    "    # True robot commands\n",
    "    v = 1\n",
    "    omega = np.sin(time[i])\n",
    "\n",
    "    # True robot dynamics\n",
    "    w_noise = np.random.multivariate_normal(np.zeros((11,)), Q)\n",
    "    x[:, i] = dynamics_model(x[:, i-1], v, omega) + w_noise\n",
    "\n",
    "    # True received measurement\n",
    "    v_noise = np.random.multivariate_normal(np.zeros((8,)), R)\n",
    "    y = measurement_model(x[:, i]) + v_noise\n",
    "\n",
    "    ### Estimation.\n",
    "\n",
    "    ####################### Code starts here #######################\n",
    "    # NOTE: Implement Extended Kalman Filter Predict and Update steps. \n",
    "    # Write resulting means to mu_ekf.\n",
    "    # Write resulting covariances to cov_ekf.\n",
    "\n",
    "    # EKF Prediction\n",
    "    # Hint: Find current G (Jacobian of the state dynamics model)\n",
    "\n",
    "    # EKF Update\n",
    "    # Hint: Find current H (Jacobian of the measurement model)\n",
    "\n",
    "    ####################### Code ends here #######################"
   ]
  },
  {
   "cell_type": "markdown",
   "metadata": {},
   "source": [
    "## Plot Results"
   ]
  },
  {
   "cell_type": "code",
   "execution_count": null,
   "metadata": {},
   "outputs": [],
   "source": [
    "def plot_error_ellipse(ax, mean, cov):\n",
    "    # Calculate the error ellipse parameters\n",
    "    eigenvalues, eigenvectors = np.linalg.eigh(cov)\n",
    "    order = eigenvalues.argsort()[::-1]\n",
    "    eigenvalues, eigenvectors = eigenvalues[order], eigenvectors[:, order]\n",
    "    angle = np.degrees(np.arctan2(*eigenvectors[:,0][::-1]))\n",
    "    \n",
    "    # Compute the radius of the ellipse to correspond to the desired confidence level\n",
    "    chi2_val = 2.4477  # Corresponds to 95% conf. interval\n",
    "    width, height = 2 * chi2_val * np.sqrt(eigenvalues)\n",
    "    \n",
    "    # Draw the ellipse\n",
    "    ellipse = patches.Ellipse(mean, width, height, angle, edgecolor='red', fc='None', lw=2)\n",
    "    ax.add_patch(ellipse)"
   ]
  },
  {
   "cell_type": "markdown",
   "metadata": {},
   "source": [
    "### Plot Mean Estimates of Robot Pose Trajectory"
   ]
  },
  {
   "cell_type": "code",
   "execution_count": null,
   "metadata": {},
   "outputs": [],
   "source": [
    "plt.figure(figsize=(18, 4))\n",
    "\n",
    "# Subplot for px\n",
    "plt.subplot(131)\n",
    "plt.title('EKF for Estimates of Robot X Position')\n",
    "plt.plot(time, x[0, :], linewidth=2, label='True')\n",
    "plt.plot(time, mu_ekf[0, :], '.', markersize=3, label='Estimate')\n",
    "plt.xlabel('Time')\n",
    "plt.ylabel(r'$x_r$')\n",
    "plt.legend()\n",
    "plt.grid(True)\n",
    "\n",
    "# Subplot for py\n",
    "plt.subplot(132)\n",
    "plt.title('EKF for Estimates of Robot Y Position')\n",
    "plt.plot(time, x[1, :], linewidth=2, label='True')\n",
    "plt.plot(time, mu_ekf[1, :], '.', markersize=3, label='Estimate')\n",
    "plt.xlabel('Time')\n",
    "plt.ylabel(r'$y_r$')\n",
    "plt.legend()\n",
    "plt.grid(True)\n",
    "\n",
    "# Subplot for theta\n",
    "plt.subplot(133)\n",
    "plt.title('EKF for Estimates of Robot Orientation')\n",
    "plt.plot(time, x[2, :], linewidth=2, label='True')\n",
    "plt.plot(time, mu_ekf[2, :], '.', markersize=3, label='Estimate')\n",
    "plt.xlabel('Time')\n",
    "plt.ylabel(r'$\\theta_r$')\n",
    "plt.legend()\n",
    "plt.grid(True)\n",
    "\n",
    "plt.tight_layout()\n",
    "plt.show()"
   ]
  },
  {
   "cell_type": "markdown",
   "metadata": {},
   "source": [
    "### Plot Mean Estimates of 2D Landmark Positions"
   ]
  },
  {
   "cell_type": "code",
   "execution_count": null,
   "metadata": {},
   "outputs": [],
   "source": [
    "plt.figure(figsize=(14, 6))\n",
    "\n",
    "# Subplot for x positions.\n",
    "plt.subplot(121)\n",
    "plt.title('Kalman Filter Estimates of Landmark X-coordinates')\n",
    "plt.plot(time, x[3, :], linewidth=2, label='m1 True', color='C0')\n",
    "plt.plot(time, mu_ekf[3, :], '.', markersize=3, label='m1 Estimate', color='C0')\n",
    "plt.plot(time, x[5, :], linewidth=2, label='m2 True', color='C1')\n",
    "plt.plot(time, mu_ekf[5, :], '.', markersize=3, label='m2 Estimate', color='C1')\n",
    "plt.plot(time, x[7, :], linewidth=2, label='m3 True', color='C2')\n",
    "plt.plot(time, mu_ekf[7, :], '.', markersize=3, label='m3 Estimate', color='C2')\n",
    "plt.plot(time, x[9, :], linewidth=2, label='m4 True', color='C3')\n",
    "plt.plot(time, mu_ekf[9, :], '.', markersize=3, label='m4 Estimate', color='C3')\n",
    "plt.xlabel('Time')\n",
    "plt.ylabel('Landmark x-coordinates')\n",
    "plt.legend()\n",
    "plt.grid(True)\n",
    "\n",
    "# Subplot for y positions.\n",
    "plt.subplot(122)\n",
    "plt.title('Kalman Filter Estimates of Landmark Y-coordinates')\n",
    "plt.plot(time, x[4, :], linewidth=2, label='m1 True', color='C0')\n",
    "plt.plot(time, mu_ekf[4, :], '.', markersize=3, label='m1 Estimate', color='C0')\n",
    "plt.plot(time, x[6, :], linewidth=2, label='m2 True', color='C1')\n",
    "plt.plot(time, mu_ekf[6, :], '.', markersize=3, label='m2 Estimate', color='C1')\n",
    "plt.plot(time, x[8, :], linewidth=2, label='m3 True', color='C2')\n",
    "plt.plot(time, mu_ekf[8, :], '.', markersize=3, label='m3 Estimate', color='C2')\n",
    "plt.plot(time, x[10, :], linewidth=2, label='m4 True', color='C3')\n",
    "plt.plot(time, mu_ekf[10, :], '.', markersize=3, label='m4 Estimate', color='C3')\n",
    "plt.xlabel('Time')\n",
    "plt.ylabel('Landmark y-coordinates')\n",
    "plt.legend()\n",
    "plt.grid(True)\n",
    "\n",
    "plt.tight_layout()\n",
    "plt.show()"
   ]
  },
  {
   "cell_type": "markdown",
   "metadata": {},
   "source": [
    "### Plot Error Ellipses Along Trajectory and Landmarks"
   ]
  },
  {
   "cell_type": "code",
   "execution_count": null,
   "metadata": {},
   "outputs": [],
   "source": [
    "plt.figure(figsize=(10, 8))\n",
    "plt.title('Estimated Robot Trajectory and Error')\n",
    "plt.plot(mu_ekf[0, :], mu_ekf[1, :], color='orange', linewidth=2)\n",
    "plt.plot(mu_ekf[3, :], mu_ekf[4, :], 'y+')\n",
    "plt.plot(mu_ekf[5, :], mu_ekf[6, :], 'y+')\n",
    "plt.plot(mu_ekf[7, :], mu_ekf[8, :], 'y+')\n",
    "plt.plot(mu_ekf[9, :], mu_ekf[10, :], 'y+')\n",
    "for i in range(0, len(time), 10):\n",
    "    plot_error_ellipse(plt.gca(), mu_ekf[:2, i], cov_ekf[i][:2, :2])\n",
    "    plot_error_ellipse(plt.gca(), mu_ekf[3:5, i], cov_ekf[i][3:5, 3:5])\n",
    "    plot_error_ellipse(plt.gca(), mu_ekf[5:7, i], cov_ekf[i][5:7, 5:7])\n",
    "    plot_error_ellipse(plt.gca(), mu_ekf[7:9, i], cov_ekf[i][7:9, 7:9])\n",
    "    plot_error_ellipse(plt.gca(), mu_ekf[9:11, i], cov_ekf[i][9:11, 9:11])\n",
    "plt.xlabel('X')\n",
    "plt.ylabel('Y')\n",
    "plt.grid(True)\n",
    "plt.show()"
   ]
  },
  {
   "cell_type": "markdown",
   "metadata": {},
   "source": [
    "### Plot Robot Trajectory in X-Y Space"
   ]
  },
  {
   "cell_type": "code",
   "execution_count": null,
   "metadata": {},
   "outputs": [],
   "source": [
    "plt.figure(figsize=(10, 8))\n",
    "plt.title('Estimated Robot Pose')\n",
    "plt.plot(x[0, :], x[1, :], linewidth=2, label='Robot')\n",
    "plt.plot(mu_ekf[0, :], mu_ekf[1, :], linewidth=2, label='Robot Estimate')\n",
    "plt.plot(xm.reshape((4,2))[:, 0], xm.reshape((4,2))[:, 1], 'b.', markersize=12, label='Landmark')\n",
    "plt.plot(mu_ekf[3, :], mu_ekf[4, :], 'y+', markersize=12, label='Landmark Estimate')\n",
    "plt.plot(mu_ekf[5, :], mu_ekf[6, :], 'y+', markersize=12)\n",
    "plt.plot(mu_ekf[7, :], mu_ekf[8, :], 'y+', markersize=12)\n",
    "plt.plot(mu_ekf[9, :], mu_ekf[10, :], 'y+', markersize=12)\n",
    "plt.xlabel('X')\n",
    "plt.ylabel('Y')\n",
    "plt.legend()\n",
    "plt.xlim([-1, 11])\n",
    "plt.ylim([-1, 11])\n",
    "plt.grid(True)\n",
    "plt.show()"
   ]
  }
 ],
 "metadata": {
  "kernelspec": {
   "display_name": "Python 3.9.10 64-bit",
   "language": "python",
   "name": "python3"
  },
  "language_info": {
   "codemirror_mode": {
    "name": "ipython",
    "version": 3
   },
   "file_extension": ".py",
   "mimetype": "text/x-python",
   "name": "python",
   "nbconvert_exporter": "python",
   "pygments_lexer": "ipython3",
   "version": "3.9.10"
  },
  "vscode": {
   "interpreter": {
    "hash": "aee8b7b246df8f9039afb4144a1f6fd8d2ca17a180786b69acc140d282b71a49"
   }
  }
 },
 "nbformat": 4,
 "nbformat_minor": 2
}
