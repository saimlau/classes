{
 "cells": [
  {
   "cell_type": "markdown",
   "metadata": {},
   "source": [
    "# Problem 2: Extended Kalman Filter for Robot Localization"
   ]
  },
  {
   "cell_type": "code",
   "execution_count": null,
   "metadata": {},
   "outputs": [],
   "source": [
    "import numpy as np\n",
    "import matplotlib.pyplot as plt\n",
    "import matplotlib.patches as patches\n",
    "\n",
    "np.random.seed(123456)"
   ]
  },
  {
   "cell_type": "markdown",
   "metadata": {},
   "source": [
    "## Simulation Setup"
   ]
  },
  {
   "cell_type": "code",
   "execution_count": null,
   "metadata": {},
   "outputs": [],
   "source": [
    "# Timesteps.\n",
    "dt = 0.1\n",
    "tf = 15\n",
    "time = np.arange(0, tf+dt, dt)\n",
    "\n",
    "# Ground-truth landmark positions.\n",
    "xm = np.array([0, 0, 2, 8, 8, 2, 10, 10])\n",
    "mr = len(xm) % 2"
   ]
  },
  {
   "cell_type": "markdown",
   "metadata": {},
   "source": [
    "## Dynamics and Measurement Equations"
   ]
  },
  {
   "cell_type": "code",
   "execution_count": null,
   "metadata": {},
   "outputs": [],
   "source": [
    "def dynamics_model(\n",
    "    xr: np.ndarray, \n",
    "    v: float, \n",
    "    omega: float,\n",
    ") -> np.ndarray:\n",
    "    \"\"\"Kalman Filter dynamics model.\n",
    "\n",
    "    NOTE: This dynamics model corresponds to Eq. (3) in the \n",
    "          homework PDF document.\n",
    "\n",
    "    Args:\n",
    "        xr (np.ndarray): Robot state.\n",
    "        v (float): Linear velocity command.\n",
    "        omega (float): Angular velocity command.\n",
    "\n",
    "    Returns:\n",
    "        np.ndarray: Next robot state.\n",
    "    \"\"\"\n",
    "    return np.array([xr[0] + dt * v * np.cos(xr[2]),\n",
    "                     xr[1] + dt * v * np.sin(xr[2]),\n",
    "                     xr[2] + dt * omega])\n",
    "\n",
    "\n",
    "def measurement_model(\n",
    "    xr: np.ndarray, \n",
    "    xm: np.ndarray,\n",
    ") -> np.ndarray:\n",
    "    \"\"\"Kalman Filter measurement model.\n",
    "    \n",
    "    NOTE: This measurement model corresponds to Eq. (4) in the\n",
    "          homework PDF document.\n",
    "\n",
    "    Args:\n",
    "        xr (np.ndarray): Robot state.\n",
    "        xm (np.ndarray): Landmark position.\n",
    "    \n",
    "    Returns:\n",
    "        np.ndarray: Expected measurement.\n",
    "    \"\"\"\n",
    "    px = xr[0]\n",
    "    py = xr[1]\n",
    "    th = xr[2]\n",
    "    \n",
    "    rot_mtx = np.array([[np.cos(th), np.sin(th)],\n",
    "                        [-np.sin(th), np.cos(th)]])\n",
    "    rot_mtx_tile = np.kron(np.eye(4, dtype=int),rot_mtx)\n",
    "    robot_position_tile = np.tile(np.array([px, py]), (4,))\n",
    "\n",
    "    return rot_mtx_tile @ (xm - robot_position_tile)\n",
    "\n",
    "\n",
    "def getG(\n",
    "    xr: np.ndarray, \n",
    "    v: float, \n",
    "    omega: float,\n",
    "):\n",
    "    \"\"\"Computes the Jacobian of the dynamics model with respect \n",
    "    to the robot state and input commands.\n",
    "    \n",
    "    Args:\n",
    "        xr (np.ndarray): Robot state.\n",
    "        v (float): Linear velocity command.\n",
    "        omega (float): Angular velocity command.\n",
    "    \n",
    "    Returns:\n",
    "        G (np.ndarray): Jacobian of the dynamics model.\n",
    "    \"\"\"\n",
    "    ####################### Code starts here #######################\n",
    "\n",
    "    ####################### Code ends here #######################\n",
    "    return G\n",
    "\n",
    "\n",
    "def getH(\n",
    "    xr: np.ndarray, \n",
    "    xm: np.ndarray,\n",
    ") -> np.ndarray:\n",
    "    \"\"\"Computes the Jacobian of the measurement model with respect\n",
    "    to the robot state and the landmark positions.\n",
    "    \n",
    "    Args:\n",
    "        xr (np.ndarray): Robot state.\n",
    "        xm (np.ndarray): Landmark positions.\n",
    "    \n",
    "    Returns:\n",
    "        H (np.ndarray): Jacobian of the measurement model.\n",
    "    \"\"\"\n",
    "    ####################### Code starts here #######################\n",
    "\n",
    "    ####################### Code ends here #######################\n",
    "    return H"
   ]
  },
  {
   "cell_type": "markdown",
   "metadata": {},
   "source": [
    "## Extended Kalman Filter Setup"
   ]
  },
  {
   "cell_type": "code",
   "execution_count": null,
   "metadata": {},
   "outputs": [],
   "source": [
    "# Ground-truth states (simulated).\n",
    "x = np.zeros((3, len(time)))\n",
    "x[:, 0] = [1, 1, 0]\n",
    "\n",
    "# Estimated states (Kalman Filter).\n",
    "mu_ekf = np.zeros((3, len(time)))\n",
    "cov_ekf = [np.eye(3) for _ in range(len(time))]\n",
    "\n",
    "# Initial state and state covariance estimate.\n",
    "init_mu_std = 0.1\n",
    "mu_ekf[:, 0] = [1, 1, 0] + np.random.multivariate_normal(np.zeros((3,)), init_mu_std*np.eye(3))\n",
    "\n",
    "# Process and observation noise.\n",
    "Q = (dt**2 * 0.1) * np.eye(3)\n",
    "R = 0.25 * np.eye(8)"
   ]
  },
  {
   "cell_type": "markdown",
   "metadata": {},
   "source": [
    "# Extended Kalman Filter Implementation"
   ]
  },
  {
   "cell_type": "code",
   "execution_count": null,
   "metadata": {},
   "outputs": [],
   "source": [
    "for i in range(1, len(time)):\n",
    "    ### Simulation.\n",
    "\n",
    "    # True robot commands\n",
    "    v = 1\n",
    "    omega = np.sin(time[i])\n",
    "\n",
    "    # True robot dynamics\n",
    "    w_noise = np.random.multivariate_normal(np.zeros((3,)), Q)\n",
    "    x[:, i] = dynamics_model(x[:, i-1], v, omega) + w_noise\n",
    "\n",
    "    # True received measurement\n",
    "    v_noise = np.random.multivariate_normal(np.zeros((8,)), R)\n",
    "    y = measurement_model(x[:, i], xm) + v_noise\n",
    "\n",
    "    ### Estimation.\n",
    "\n",
    "    ####################### Code starts here #######################\n",
    "    # NOTE: Implement Extended Kalman Filter Predict and Update steps. \n",
    "    # Write resulting means to mu_ekf.\n",
    "    # Write resulting covariances to cov_ekf.\n",
    "\n",
    "    # EKF Prediction\n",
    "    # Hint: Find current G (Jacobian of the state dynamics model)\n",
    "\n",
    "    # EKF Update\n",
    "    # Hint: Find current H (Jacobian of the measurement model)\n",
    "\n",
    "    ####################### Code ends here #######################"
   ]
  },
  {
   "cell_type": "markdown",
   "metadata": {},
   "source": [
    "## Plot Results"
   ]
  },
  {
   "cell_type": "code",
   "execution_count": null,
   "metadata": {},
   "outputs": [],
   "source": [
    "def plot_error_ellipse(ax, mean, cov):\n",
    "    # Calculate the error ellipse parameters\n",
    "    eigenvalues, eigenvectors = np.linalg.eigh(cov)\n",
    "    order = eigenvalues.argsort()[::-1]\n",
    "    eigenvalues, eigenvectors = eigenvalues[order], eigenvectors[:, order]\n",
    "    angle = np.degrees(np.arctan2(*eigenvectors[:,0][::-1]))\n",
    "    \n",
    "    # Compute the radius of the ellipse to correspond to the desired confidence level\n",
    "    chi2_val = 2.4477  # Corresponds to 95% conf. interval\n",
    "    width, height = 2 * chi2_val * np.sqrt(eigenvalues)\n",
    "    \n",
    "    # Draw the ellipse\n",
    "    ellipse = patches.Ellipse(mean, width, height, angle, edgecolor='red', fc='None', lw=2)\n",
    "    ax.add_patch(ellipse)"
   ]
  },
  {
   "cell_type": "markdown",
   "metadata": {},
   "source": [
    "### Plot Mean Estimates of Robot Pose Trajectory"
   ]
  },
  {
   "cell_type": "code",
   "execution_count": null,
   "metadata": {},
   "outputs": [],
   "source": [
    "plt.figure(figsize=(18, 4))\n",
    "\n",
    "# Subplot for px\n",
    "plt.subplot(131)\n",
    "plt.title('EKF for Estimates of Robot X Position')\n",
    "plt.plot(time, x[0, :], linewidth=2, label='True')\n",
    "plt.plot(time, mu_ekf[0, :], '.', markersize=3, label='Estimate')\n",
    "plt.xlabel('Time')\n",
    "plt.ylabel(r'$x_r$')\n",
    "plt.legend()\n",
    "plt.grid(True)\n",
    "\n",
    "# Subplot for py\n",
    "plt.subplot(132)\n",
    "plt.title('EKF for Estimates of Robot Y Position')\n",
    "plt.plot(time, x[1, :], linewidth=2, label='True')\n",
    "plt.plot(time, mu_ekf[1, :], '.', markersize=3, label='Estimate')\n",
    "plt.xlabel('Time')\n",
    "plt.ylabel(r'$y_r$')\n",
    "plt.legend()\n",
    "plt.grid(True)\n",
    "\n",
    "\n",
    "# Subplot for theta\n",
    "plt.subplot(133)\n",
    "plt.title('EKF for Estimates of Robot Orientation')\n",
    "plt.plot(time, x[2, :], linewidth=2, label='True')\n",
    "plt.plot(time, mu_ekf[2, :], '.', markersize=3, label='Estimate')\n",
    "plt.xlabel('Time')\n",
    "plt.ylabel(r'$\\theta_r$')\n",
    "plt.legend()\n",
    "plt.grid(True)\n",
    "\n",
    "plt.tight_layout()\n",
    "plt.show()"
   ]
  },
  {
   "cell_type": "markdown",
   "metadata": {},
   "source": [
    "### Plot Error Ellipses Along Trajectory"
   ]
  },
  {
   "cell_type": "code",
   "execution_count": null,
   "metadata": {},
   "outputs": [],
   "source": [
    "plt.figure(figsize=(10, 8))\n",
    "plt.title('Estimated Robot Trajectory and Error')\n",
    "plt.plot(mu_ekf[0, :], mu_ekf[1, :], color='orange', linewidth=2)\n",
    "for i in range(0, len(time), 10):\n",
    "    plot_error_ellipse(plt.gca(), mu_ekf[:2, i], cov_ekf[i][:2, :2])\n",
    "plt.xlabel('X')\n",
    "plt.ylabel('Y')\n",
    "plt.grid(True)\n",
    "plt.show()"
   ]
  },
  {
   "cell_type": "markdown",
   "metadata": {},
   "source": [
    "### Plot Robot Trajectory in X-Y Space"
   ]
  },
  {
   "cell_type": "code",
   "execution_count": null,
   "metadata": {},
   "outputs": [],
   "source": [
    "plt.figure(figsize=(10, 8))\n",
    "plt.title('Estimated Robot Pose')\n",
    "plt.plot(x[0, :], x[1, :], linewidth=2, label='Robot')\n",
    "plt.plot(mu_ekf[0, :], mu_ekf[1, :], linewidth=2, label='Robot Estimate')\n",
    "plt.plot(xm.reshape((4,2))[:, 0], xm.reshape((4,2))[:, 1], 'b.', markersize=12, label='Landmark')\n",
    "plt.xlabel('X')\n",
    "plt.ylabel('Y')\n",
    "plt.legend()\n",
    "plt.xlim([-1, 11])\n",
    "plt.ylim([-1, 11])\n",
    "plt.grid(True)\n",
    "plt.show()"
   ]
  }
 ],
 "metadata": {
  "kernelspec": {
   "display_name": "Python 3.9.10 64-bit",
   "language": "python",
   "name": "python3"
  },
  "language_info": {
   "codemirror_mode": {
    "name": "ipython",
    "version": 3
   },
   "file_extension": ".py",
   "mimetype": "text/x-python",
   "name": "python",
   "nbconvert_exporter": "python",
   "pygments_lexer": "ipython3",
   "version": "3.9.10"
  },
  "vscode": {
   "interpreter": {
    "hash": "aee8b7b246df8f9039afb4144a1f6fd8d2ca17a180786b69acc140d282b71a49"
   }
  }
 },
 "nbformat": 4,
 "nbformat_minor": 2
}
