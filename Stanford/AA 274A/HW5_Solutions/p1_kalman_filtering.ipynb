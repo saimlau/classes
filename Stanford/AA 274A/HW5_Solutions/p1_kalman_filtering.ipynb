{
 "cells": [
  {
   "cell_type": "markdown",
   "metadata": {},
   "source": [
    "# Problem 1: Kalman Filter for Landmark Localization"
   ]
  },
  {
   "cell_type": "code",
   "execution_count": null,
   "metadata": {},
   "outputs": [],
   "source": [
    "import numpy as np\n",
    "import matplotlib.pyplot as plt\n",
    "import matplotlib.patches as patches\n",
    "\n",
    "np.random.seed(123456)"
   ]
  },
  {
   "cell_type": "markdown",
   "metadata": {},
   "source": [
    "## Simulation Setup"
   ]
  },
  {
   "cell_type": "code",
   "execution_count": null,
   "metadata": {},
   "outputs": [],
   "source": [
    "# NOTE: We are not estimating the state of the robot in this problem.\n",
    "# Instead, we are estimating the state of landmarks assuming knowledge \n",
    "# of the robot state. Thus, please do not confuse the robot_motion_model \n",
    "# with the dynamics model that should be used in the Kalman Filter.\n",
    "def robot_motion_model(\n",
    "    xr: np.ndarray, \n",
    "    v: float, \n",
    "    omega: float,\n",
    "    dt: float,\n",
    ") -> np.ndarray:\n",
    "    \"\"\"Robot motion model.\n",
    "\n",
    "    Args:\n",
    "        xr (np.ndarray): Robot state.\n",
    "        v (float): Linear velocity command.\n",
    "        omega (float): Angular velocity command.\n",
    "\n",
    "    Returns:\n",
    "        np.ndarray: Next robot state.\n",
    "    \"\"\"\n",
    "    return np.array([xr[0] + dt * v * np.cos(xr[2]),\n",
    "                     xr[1] + dt * v * np.sin(xr[2]),\n",
    "                     xr[2] + dt * omega])\n",
    "\n",
    "\n",
    "def robot_commands(t: float) -> np.ndarray:\n",
    "    \"\"\"Robot linear and angular velocity commands.\n",
    "\n",
    "    Args:\n",
    "        t (float): Current timestep.\n",
    "    \n",
    "    Returns:\n",
    "        np.ndarray: Robot linear and angular velocity commands.\n",
    "    \"\"\"\n",
    "    return np.array([1, np.sin(t)])"
   ]
  },
  {
   "cell_type": "code",
   "execution_count": null,
   "metadata": {},
   "outputs": [],
   "source": [
    "# Timesteps.\n",
    "dt = 0.1\n",
    "ti = 0\n",
    "tf = 15\n",
    "time = np.arange(ti, tf+dt, dt)\n",
    "\n",
    "# Ground-truth landmark positions.\n",
    "# NOTE: We are estimating the state of the landmarks in this problem.\n",
    "xm = np.array([\n",
    "    [0, 0],\n",
    "    [2, 8],\n",
    "    [8, 2],\n",
    "    [10, 10]\n",
    "], dtype=float)\n",
    "\n",
    "# Ground-truth robot states.\n",
    "# NOTE: We are not estimating the state of the robot in this problem.\n",
    "xr = np.zeros((3, len(time)))\n",
    "xr[:, 0] = np.array([1, 1, 0])\n",
    "for i, t in enumerate(time[1:], 1):\n",
    "    xr[:, i] = robot_motion_model(xr[:, i-1], *robot_commands(t), dt)"
   ]
  },
  {
   "cell_type": "markdown",
   "metadata": {},
   "source": [
    "## Kalman Filter Setup"
   ]
  },
  {
   "cell_type": "code",
   "execution_count": null,
   "metadata": {},
   "outputs": [],
   "source": [
    "# Ground-truth states (simulated).\n",
    "x = np.zeros((8, len(time)))\n",
    "x[:, 0] = xm.flatten()\n",
    "\n",
    "# Estimated states (Kalman Filter).\n",
    "mu_kf = np.zeros((8, len(time)))\n",
    "cov_kf = [np.eye(8) for _ in range(len(time))]\n",
    "\n",
    "# Initial state and state covariance estimate.\n",
    "init_mu_std = 0.1\n",
    "mu_kf[:, 0] = xm.flatten() + init_mu_std * np.random.randn(8)\n",
    "cov_kf[0] = np.eye(8)\n",
    "cov_kf[0] = init_mu_std * np.eye(8)\n",
    "\n",
    "# Process and observation noise.\n",
    "Q = 0.0 * np.eye(8)  # Landmarks are stationary, assume zero process noise.\n",
    "R = 0.25 * np.eye(8)  # Measurements contain noise, assume observation noise."
   ]
  },
  {
   "cell_type": "markdown",
   "metadata": {},
   "source": [
    "## Kalman Filter Implementation"
   ]
  },
  {
   "cell_type": "code",
   "execution_count": null,
   "metadata": {},
   "outputs": [],
   "source": [
    "####################### Code starts here #######################\n",
    "# NOTE: What are the state transition and observation matrices?\n",
    "A = None\n",
    "C = None\n",
    "####################### Code ends here #######################\n",
    "\n",
    "for i in range(1, len(time)):\n",
    "    ### Simulation.\n",
    "\n",
    "    # True landmark dynamics\n",
    "    x[:, i] = A @ x[:, i-1]\n",
    "\n",
    "    # True received measurement\n",
    "    v_noise = np.random.multivariate_normal(np.zeros((8,)), R)\n",
    "    y = C @ x[:, i] + v_noise\n",
    "    \n",
    "    ### Estimation.\n",
    "    \n",
    "    ####################### Code starts here #######################\n",
    "    # NOTE: Implement Kalman Filtering Predict and Update steps.\n",
    "    # Write resulting means to mu_kf.\n",
    "    # Write resulting covariances to cov_kf.\n",
    "\n",
    "    ####################### Code ends here #######################"
   ]
  },
  {
   "cell_type": "markdown",
   "metadata": {},
   "source": [
    "## Plot Results"
   ]
  },
  {
   "cell_type": "code",
   "execution_count": null,
   "metadata": {},
   "outputs": [],
   "source": [
    "def plot_error_ellipse(ax, mean, cov):\n",
    "    # Calculate the error ellipse parameters\n",
    "    eigenvalues, eigenvectors = np.linalg.eigh(cov)\n",
    "    order = eigenvalues.argsort()[::-1]\n",
    "    eigenvalues, eigenvectors = eigenvalues[order], eigenvectors[:, order]\n",
    "    angle = np.degrees(np.arctan2(*eigenvectors[:,0][::-1]))\n",
    "    \n",
    "    # Compute the radius of the ellipse to correspond to the desired confidence level\n",
    "    chi2_val = 2.4477  # Corresponds to 95% conf. interval\n",
    "    width, height = 2 * chi2_val * np.sqrt(eigenvalues)\n",
    "    \n",
    "    # Draw the ellipse\n",
    "    ellipse = patches.Ellipse(mean, width, height, angle, edgecolor='red', fc='None', lw=2)\n",
    "    ax.add_patch(ellipse)"
   ]
  },
  {
   "cell_type": "markdown",
   "metadata": {},
   "source": [
    "### Plot Mean Estimates of 2D Landmark Positions"
   ]
  },
  {
   "cell_type": "code",
   "execution_count": null,
   "metadata": {},
   "outputs": [],
   "source": [
    "plt.figure(figsize=(14, 6))\n",
    "\n",
    "# Subplot for x positions.\n",
    "plt.subplot(121)\n",
    "plt.title('Kalman Filter Estimates of Landmark X-coordinates')\n",
    "plt.plot(time, x[0, :], linewidth=2, label='m1 True', color='C0')\n",
    "plt.plot(time, mu_kf[0, :], '.', markersize=3, label='m1 Estimate', color='C0')\n",
    "plt.plot(time, x[2, :], linewidth=2, label='m2 True', color='C1')\n",
    "plt.plot(time, mu_kf[2, :], '.', markersize=3, label='m2 Estimate', color='C1')\n",
    "plt.plot(time, x[4, :], linewidth=2, label='m3 True', color='C2')\n",
    "plt.plot(time, mu_kf[4, :], '.', markersize=3, label='m3 Estimate', color='C2')\n",
    "plt.plot(time, x[6, :], linewidth=2, label='m4 True', color='C3')\n",
    "plt.plot(time, mu_kf[6, :], '.', markersize=3, label='m4 Estimate', color='C3')\n",
    "plt.xlabel('Time')\n",
    "plt.ylabel('Landmark x-coordinates')\n",
    "plt.legend()\n",
    "plt.grid(True)\n",
    "\n",
    "# Subplot for y positions.\n",
    "plt.subplot(122)\n",
    "plt.title('Kalman Filter Estimates of Landmark Y-coordinates')\n",
    "plt.plot(time, x[1, :], linewidth=2, label='m1 True', color='C0')\n",
    "plt.plot(time, mu_kf[1, :], '.', markersize=3, label='m1 Estimate', color='C0')\n",
    "plt.plot(time, x[3, :], linewidth=2, label='m2 True', color='C1')\n",
    "plt.plot(time, mu_kf[3, :], '.', markersize=3, label='m2 Estimate', color='C1')\n",
    "plt.plot(time, x[5, :], linewidth=2, label='m3 True', color='C2')\n",
    "plt.plot(time, mu_kf[5, :], '.', markersize=3, label='m3 Estimate', color='C2')\n",
    "plt.plot(time, x[7, :], linewidth=2, label='m4 True', color='C3')\n",
    "plt.plot(time, mu_kf[7, :], '.', markersize=3, label='m4 Estimate', color='C3')\n",
    "plt.xlabel('Time')\n",
    "plt.ylabel('Landmark y-coordinates')\n",
    "plt.legend()\n",
    "plt.grid(True)\n",
    "\n",
    "plt.tight_layout()\n",
    "plt.show()"
   ]
  },
  {
   "cell_type": "markdown",
   "metadata": {},
   "source": [
    "### Plot Error Ellipses of 2D Landmarks Along Trajectory"
   ]
  },
  {
   "cell_type": "code",
   "execution_count": null,
   "metadata": {},
   "outputs": [],
   "source": [
    "plt.figure(figsize=(10, 8))\n",
    "plt.title('Estimated Landmark Positions and Error')\n",
    "plt.plot(xr[0, :], xr[1, :], linewidth=2)\n",
    "plt.plot(mu_kf[0, :], mu_kf[1, :], 'y+')\n",
    "plt.plot(mu_kf[2, :], mu_kf[3, :], 'y+')\n",
    "plt.plot(mu_kf[4, :], mu_kf[5, :], 'y+')\n",
    "plt.plot(mu_kf[6, :], mu_kf[7, :], 'y+')\n",
    "\n",
    "for i in range(0, len(time), 10):\n",
    "    plot_error_ellipse(plt.gca(), mu_kf[0:2, i], cov_kf[i][0:2, 0:2])\n",
    "    plot_error_ellipse(plt.gca(), mu_kf[2:4, i], cov_kf[i][2:4, 2:4])\n",
    "    plot_error_ellipse(plt.gca(), mu_kf[4:6, i], cov_kf[i][4:6, 4:6])\n",
    "    plot_error_ellipse(plt.gca(), mu_kf[6:8, i], cov_kf[i][6:8, 6:8])\n",
    "\n",
    "plt.xlabel('X position')\n",
    "plt.ylabel('Y position')\n",
    "plt.grid(True)"
   ]
  },
  {
   "cell_type": "markdown",
   "metadata": {},
   "source": [
    "### Plot Trajectory and 2D Landmark Estimates in X-Y Space"
   ]
  },
  {
   "cell_type": "code",
   "execution_count": null,
   "metadata": {},
   "outputs": [],
   "source": [
    "plt.figure(figsize=(10, 8))\n",
    "plt.title('Estimated Landmark Positions')\n",
    "plt.plot(xr[0, :], xr[1, :], linewidth=2, label='Robot')\n",
    "plt.plot(x[0, :], x[1, :], 'b.', markersize=12, label='Landmark')\n",
    "plt.plot(mu_kf[0, :], mu_kf[1, :], 'y+', markersize=12, label='Landmark Estimate')\n",
    "plt.plot(x[2, :], x[3, :], 'b.', markersize=12)\n",
    "plt.plot(mu_kf[2, :], mu_kf[3, :], 'y+', markersize=12)\n",
    "plt.plot(x[4, :], x[5, :], 'b.', markersize=12)\n",
    "plt.plot(mu_kf[4, :], mu_kf[5, :], 'y+', markersize=12)\n",
    "plt.plot(x[6, :], x[7, :], 'b.', markersize=12)\n",
    "plt.plot(mu_kf[6, :], mu_kf[7, :], 'y+', markersize=12)\n",
    "plt.xlabel('X')\n",
    "plt.ylabel('Y')\n",
    "plt.legend()\n",
    "plt.xlim([-1, 11])\n",
    "plt.ylim([-1, 11])\n",
    "plt.grid(True)\n",
    "plt.show()"
   ]
  }
 ],
 "metadata": {
  "kernelspec": {
   "display_name": "Python 3.9.10 64-bit",
   "language": "python",
   "name": "python3"
  },
  "language_info": {
   "codemirror_mode": {
    "name": "ipython",
    "version": 3
   },
   "file_extension": ".py",
   "mimetype": "text/x-python",
   "name": "python",
   "nbconvert_exporter": "python",
   "pygments_lexer": "ipython3",
   "version": "3.9.10"
  },
  "vscode": {
   "interpreter": {
    "hash": "aee8b7b246df8f9039afb4144a1f6fd8d2ca17a180786b69acc140d282b71a49"
   }
  }
 },
 "nbformat": 4,
 "nbformat_minor": 2
}
