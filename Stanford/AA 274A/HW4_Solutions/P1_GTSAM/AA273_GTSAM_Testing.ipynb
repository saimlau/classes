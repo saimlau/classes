{
  "nbformat": 4,
  "nbformat_minor": 0,
  "metadata": {
    "colab": {
      "provenance": [],
      "include_colab_link": true
    },
    "kernelspec": {
      "name": "python3",
      "display_name": "Python 3"
    },
    "language_info": {
      "name": "python"
    }
  },
  "cells": [
    {
      "cell_type": "markdown",
      "metadata": {
        "id": "view-in-github",
        "colab_type": "text"
      },
      "source": [
        "<a href=\"https://colab.research.google.com/github/chengine/aa273spring2024/blob/main/GTSAM/AA273_GTSAM_Testing.ipynb\" target=\"_parent\"><img src=\"https://colab.research.google.com/assets/colab-badge.svg\" alt=\"Open In Colab\"/></a>"
      ]
    },
    {
      "cell_type": "markdown",
      "source": [
        "# GTSAM test\n",
        "https://github.com/borglab/gtsam/blob/develop/python/gtsam/examples/Pose2SLAMExample.py"
      ],
      "metadata": {
        "id": "x-zYvYPJEfEG"
      }
    },
    {
      "cell_type": "code",
      "execution_count": null,
      "metadata": {
        "id": "5T2q8O59Eb2x",
        "colab": {
          "base_uri": "https://localhost:8080/"
        },
        "outputId": "0818bd65-63d0-4322-c84a-9920c6d6f4ff"
      },
      "outputs": [
        {
          "output_type": "stream",
          "name": "stdout",
          "text": [
            "Collecting gtsam\n",
            "  Downloading gtsam-4.2-cp310-cp310-manylinux2014_x86_64.whl (21.8 MB)\n",
            "\u001b[2K     \u001b[90m━━━━━━━━━━━━━━━━━━━━━━━━━━━━━━━━━━━━━━━━\u001b[0m \u001b[32m21.8/21.8 MB\u001b[0m \u001b[31m8.9 MB/s\u001b[0m eta \u001b[36m0:00:00\u001b[0m\n",
            "\u001b[?25hRequirement already satisfied: numpy>=1.11.0 in /usr/local/lib/python3.10/dist-packages (from gtsam) (1.25.2)\n",
            "Requirement already satisfied: pyparsing>=2.4.2 in /usr/local/lib/python3.10/dist-packages (from gtsam) (3.1.2)\n",
            "Installing collected packages: gtsam\n",
            "Successfully installed gtsam-4.2\n"
          ]
        }
      ],
      "source": [
        "!pip install gtsam"
      ]
    },
    {
      "cell_type": "code",
      "source": [
        "import gtsam\n",
        "import math\n",
        "import gtsam.utils.plot as gtsam_plot\n",
        "import matplotlib.pyplot as plt"
      ],
      "metadata": {
        "id": "EMJU_XUoEiMW"
      },
      "execution_count": null,
      "outputs": []
    },
    {
      "cell_type": "code",
      "source": [
        "# Create noise models\n",
        "PRIOR_NOISE = gtsam.noiseModel.Diagonal.Sigmas(gtsam.Point3(0.3, 0.3, 0.1))\n",
        "ODOMETRY_NOISE = gtsam.noiseModel.Diagonal.Sigmas(\n",
        "    gtsam.Point3(0.2, 0.2, 0.1))\n",
        "\n",
        "# 1. Create a factor graph container and add factors to it\n",
        "graph = gtsam.NonlinearFactorGraph()\n",
        "\n",
        "# 2a. Add a prior on the first pose, setting it to the origin\n",
        "# A prior factor consists of a mean and a noise ODOMETRY_NOISE (covariance matrix)\n",
        "graph.add(gtsam.PriorFactorPose2(1, gtsam.Pose2(0, 0, 0), PRIOR_NOISE))\n",
        "\n",
        "# 2b. Add odometry factors\n",
        "# Create odometry (Between) factors between consecutive poses\n",
        "graph.add(\n",
        "    gtsam.BetweenFactorPose2(1, 2, gtsam.Pose2(2, 0, 0), ODOMETRY_NOISE))\n",
        "graph.add(\n",
        "    gtsam.BetweenFactorPose2(2, 3, gtsam.Pose2(2, 0, math.pi / 2),\n",
        "                                ODOMETRY_NOISE))\n",
        "graph.add(\n",
        "    gtsam.BetweenFactorPose2(3, 4, gtsam.Pose2(2, 0, math.pi / 2),\n",
        "                                ODOMETRY_NOISE))\n",
        "graph.add(\n",
        "    gtsam.BetweenFactorPose2(4, 5, gtsam.Pose2(2, 0, math.pi / 2),\n",
        "                                ODOMETRY_NOISE))"
      ],
      "metadata": {
        "id": "FY2n70zeEjkG"
      },
      "execution_count": null,
      "outputs": []
    },
    {
      "cell_type": "code",
      "source": [
        "# 2c. Add the loop closure constraint\n",
        "# This factor encodes the fact that we have returned to the same pose. In real\n",
        "# systems, these constraints may be identified in many ways, such as appearance-based\n",
        "# techniques with camera images. We will use another Between Factor to enforce this constraint:\n",
        "graph.add(\n",
        "    gtsam.BetweenFactorPose2(5, 2, gtsam.Pose2(2, 0, math.pi / 2),\n",
        "                                ODOMETRY_NOISE))\n",
        "print(\"\\nFactor Graph:\\n{}\".format(graph))  # print\n",
        "\n",
        "# 3. Create the data structure to hold the initial_estimate estimate to the\n",
        "# solution. For illustrative purposes, these have been deliberately set to incorrect values\n",
        "initial_estimate = gtsam.Values()\n",
        "initial_estimate.insert(1, gtsam.Pose2(0.5, 0.0, 0.2))\n",
        "initial_estimate.insert(2, gtsam.Pose2(2.3, 0.1, -0.2))\n",
        "initial_estimate.insert(3, gtsam.Pose2(4.1, 0.1, math.pi / 2))\n",
        "initial_estimate.insert(4, gtsam.Pose2(4.0, 2.0, math.pi))\n",
        "initial_estimate.insert(5, gtsam.Pose2(2.1, 2.1, -math.pi / 2))\n",
        "print(\"\\nInitial Estimate:\\n{}\".format(initial_estimate))  # print"
      ],
      "metadata": {
        "id": "yJM6Zq4uEl6n",
        "colab": {
          "base_uri": "https://localhost:8080/"
        },
        "outputId": "6622ed02-f652-4844-b19a-a1a4dafdd122"
      },
      "execution_count": null,
      "outputs": [
        {
          "output_type": "stream",
          "name": "stdout",
          "text": [
            "\n",
            "Factor Graph:\n",
            "NonlinearFactorGraph: size: 6\n",
            "\n",
            "Factor 0: PriorFactor on 1\n",
            "  prior mean:  (0, 0, 0)\n",
            "  noise model: diagonal sigmas [0.3; 0.3; 0.1];\n",
            "\n",
            "Factor 1: BetweenFactor(1,2)\n",
            "  measured:  (2, 0, 0)\n",
            "  noise model: diagonal sigmas [0.2; 0.2; 0.1];\n",
            "\n",
            "Factor 2: BetweenFactor(2,3)\n",
            "  measured:  (2, 0, 1.57079633)\n",
            "  noise model: diagonal sigmas [0.2; 0.2; 0.1];\n",
            "\n",
            "Factor 3: BetweenFactor(3,4)\n",
            "  measured:  (2, 0, 1.57079633)\n",
            "  noise model: diagonal sigmas [0.2; 0.2; 0.1];\n",
            "\n",
            "Factor 4: BetweenFactor(4,5)\n",
            "  measured:  (2, 0, 1.57079633)\n",
            "  noise model: diagonal sigmas [0.2; 0.2; 0.1];\n",
            "\n",
            "Factor 5: BetweenFactor(5,2)\n",
            "  measured:  (2, 0, 1.57079633)\n",
            "  noise model: diagonal sigmas [0.2; 0.2; 0.1];\n",
            "\n",
            "\n",
            "\n",
            "Initial Estimate:\n",
            "Values with 5 values:\n",
            "Value 1: (gtsam::Pose2)\n",
            "(0.5, 0, 0.2)\n",
            "\n",
            "Value 2: (gtsam::Pose2)\n",
            "(2.3, 0.1, -0.2)\n",
            "\n",
            "Value 3: (gtsam::Pose2)\n",
            "(4.1, 0.1, 1.57079633)\n",
            "\n",
            "Value 4: (gtsam::Pose2)\n",
            "(4, 2, 3.14159265)\n",
            "\n",
            "Value 5: (gtsam::Pose2)\n",
            "(2.1, 2.1, -1.57079633)\n",
            "\n",
            "\n"
          ]
        }
      ]
    },
    {
      "cell_type": "code",
      "source": [
        "# 4. Optimize the initial values using a Gauss-Newton nonlinear optimizer\n",
        "# The optimizer accepts an optional set of configuration parameters,\n",
        "# controlling things like convergence criteria, the type of linear\n",
        "# system solver to use, and the amount of information displayed during\n",
        "# optimization. We will set a few parameters as a demonstration.\n",
        "parameters = gtsam.GaussNewtonParams()\n",
        "\n",
        "# Stop iterating once the change in error between steps is less than this value\n",
        "parameters.setRelativeErrorTol(1e-5)\n",
        "# Do not perform more than N iteration steps\n",
        "parameters.setMaxIterations(100)\n",
        "# Create the optimizer ...\n",
        "optimizer = gtsam.GaussNewtonOptimizer(graph, initial_estimate, parameters)\n",
        "# ... and optimize\n",
        "result = optimizer.optimize()\n",
        "print(\"Final Result:\\n{}\".format(result))"
      ],
      "metadata": {
        "id": "YdWhOka2Enym",
        "colab": {
          "base_uri": "https://localhost:8080/"
        },
        "outputId": "c864ea07-97d1-47ff-b2d9-c3881cb9dc89"
      },
      "execution_count": null,
      "outputs": [
        {
          "output_type": "stream",
          "name": "stdout",
          "text": [
            "Final Result:\n",
            "Values with 5 values:\n",
            "Value 1: (gtsam::Pose2)\n",
            "(-2.7684295e-20, -8.15199774e-20, -3.57721281e-20)\n",
            "\n",
            "Value 2: (gtsam::Pose2)\n",
            "(2, -1.89295335e-19, -5.34287057e-20)\n",
            "\n",
            "Value 3: (gtsam::Pose2)\n",
            "(4, -3.42174082e-11, 1.57079633)\n",
            "\n",
            "Value 4: (gtsam::Pose2)\n",
            "(4, 2, 3.14159265)\n",
            "\n",
            "Value 5: (gtsam::Pose2)\n",
            "(2, 2, -1.57079633)\n",
            "\n",
            "\n"
          ]
        }
      ]
    },
    {
      "cell_type": "code",
      "source": [
        "# 5. Calculate and print marginal covariances for all variables\n",
        "marginals = gtsam.Marginals(graph, result)\n",
        "for i in range(1, 6):\n",
        "    print(\"X{} covariance:\\n{}\\n\".format(i,\n",
        "                                            marginals.marginalCovariance(i)))\n",
        "\n",
        "for i in range(1, 6):\n",
        "    gtsam_plot.plot_pose2(0, result.atPose2(i), 0.5,\n",
        "                            marginals.marginalCovariance(i))\n",
        "\n",
        "plt.axis('equal')\n",
        "plt.show()"
      ],
      "metadata": {
        "id": "8bZ-8ppUU-DO",
        "colab": {
          "base_uri": "https://localhost:8080/",
          "height": 883
        },
        "outputId": "f0272958-a75b-4881-d244-bf8a7466a06d"
      },
      "execution_count": null,
      "outputs": [
        {
          "output_type": "stream",
          "name": "stdout",
          "text": [
            "X1 covariance:\n",
            "[[ 9.00000000e-02 -2.12500911e-18 -7.19466295e-18]\n",
            " [-2.12500911e-18  9.00000000e-02 -5.75539616e-17]\n",
            " [-7.19466295e-18 -5.75539616e-17  1.00000000e-02]]\n",
            "\n",
            "X2 covariance:\n",
            "[[ 1.30000000e-01 -2.52182245e-17 -2.01024710e-17]\n",
            " [-2.52182245e-17  1.70000000e-01  2.00000000e-02]\n",
            " [-2.01024710e-17  2.00000000e-02  2.00000000e-02]]\n",
            "\n",
            "X3 covariance:\n",
            "[[ 3.62000000e-01 -3.29296371e-12  6.20000000e-02]\n",
            " [-3.29296189e-12  1.62000000e-01 -2.00000000e-03]\n",
            " [ 6.20000000e-02 -2.00000000e-03  2.65000000e-02]]\n",
            "\n",
            "X4 covariance:\n",
            "[[ 0.268 -0.128  0.048]\n",
            " [-0.128  0.378 -0.068]\n",
            " [ 0.048 -0.068  0.028]]\n",
            "\n",
            "X5 covariance:\n",
            "[[ 0.202   0.036  -0.018 ]\n",
            " [ 0.036   0.26   -0.051 ]\n",
            " [-0.018  -0.051   0.0265]]\n",
            "\n"
          ]
        },
        {
          "output_type": "display_data",
          "data": {
            "text/plain": [
              "<Figure size 640x480 with 1 Axes>"
            ],
            "image/png": "[encoded data removed]"
          },
          "metadata": {}
        }
      ]
    },
    {
      "cell_type": "markdown",
      "source": [
        "https://github.com/borglab/gtsam/blob/develop/python/gtsam/examples/PlanarSLAMExample.py"
      ],
      "metadata": {
        "id": "NsN9mGbJWAC1"
      }
    },
    {
      "cell_type": "code",
      "source": [
        "import numpy as np\n",
        "from gtsam.symbol_shorthand import L, X"
      ],
      "metadata": {
        "id": "DmlGtColWBP4"
      },
      "execution_count": null,
      "outputs": []
    },
    {
      "cell_type": "code",
      "source": [
        "# Create noise models\n",
        "PRIOR_NOISE = gtsam.noiseModel.Diagonal.Sigmas(np.array([0.3, 0.3, 0.1]))\n",
        "ODOMETRY_NOISE = gtsam.noiseModel.Diagonal.Sigmas(0.01 * np.array([0.2, 0.2, 0.1]))\n",
        "MEASUREMENT_NOISE = gtsam.noiseModel.Diagonal.Sigmas(0.01 * np.array([0.1, 0.2]))"
      ],
      "metadata": {
        "id": "14qIPhEMWOmR"
      },
      "execution_count": null,
      "outputs": []
    },
    {
      "cell_type": "code",
      "source": [
        "\"\"\"Main runner\"\"\"\n",
        "\n",
        "# Create an empty nonlinear factor graph\n",
        "graph = gtsam.NonlinearFactorGraph()\n",
        "\n",
        "# Create the keys corresponding to unknown variables in the factor graph\n",
        "X1 = X(1)\n",
        "X2 = X(2)\n",
        "X3 = X(3)\n",
        "X4 = X(4)\n",
        "L1 = L(1)\n",
        "L2 = L(2)\n",
        "\n",
        "# Add a prior on pose X1 at the origin. A prior factor consists of a mean and a noise model\n",
        "graph.add(\n",
        "    gtsam.PriorFactorPose2(X1, gtsam.Pose2(0.0, 0.0, 0.0), PRIOR_NOISE))\n",
        "\n",
        "# Add odometry factors between X1,X2 and X2,X3, respectively\n",
        "graph.add(\n",
        "    gtsam.BetweenFactorPose2(X1, X2, gtsam.Pose2(2.0, 0.0, 0.0),\n",
        "                                ODOMETRY_NOISE))\n",
        "graph.add(\n",
        "    gtsam.BetweenFactorPose2(X2, X3, gtsam.Pose2(2.0, 0.0, 0.0),\n",
        "                                ODOMETRY_NOISE))\n",
        "\n",
        "graph.add(\n",
        "    gtsam.BetweenFactorPose2(X3, X4, gtsam.Pose2(2.0, 0.0, 0.0),\n",
        "                                ODOMETRY_NOISE))\n",
        "\n",
        "graph.add(\n",
        "    gtsam.BetweenFactorPose2(X1, X4, gtsam.Pose2(6.0, 0.0, 0.0),\n",
        "                                ODOMETRY_NOISE))\n",
        "\n",
        "# Add Range-Bearing measurements to two different landmarks L1 and L2\n",
        "graph.add(\n",
        "    gtsam.BearingRangeFactor2D(X1, L1, gtsam.Rot2.fromDegrees(45),\n",
        "                                np.sqrt(4.0 + 4.0), MEASUREMENT_NOISE))\n",
        "graph.add(\n",
        "    gtsam.BearingRangeFactor2D(X2, L1, gtsam.Rot2.fromDegrees(90), 2.0,\n",
        "                                MEASUREMENT_NOISE))\n",
        "graph.add(\n",
        "    gtsam.BearingRangeFactor2D(X3, L2, gtsam.Rot2.fromDegrees(90), 2.0,\n",
        "                                MEASUREMENT_NOISE))\n",
        "\n",
        "# Print graph\n",
        "print(\"Factor Graph:\\n{}\".format(graph))\n",
        "\n",
        "# Create (deliberately inaccurate) initial estimate\n",
        "initial_estimate = gtsam.Values()\n",
        "initial_estimate.insert(X1, gtsam.Pose2(-0.25, 0.20, 0.15))\n",
        "initial_estimate.insert(X2, gtsam.Pose2(2.30, 0.10, -0.20))\n",
        "initial_estimate.insert(X3, gtsam.Pose2(4.10, 0.10, 0.10))\n",
        "initial_estimate.insert(X4, gtsam.Pose2(7.10, -3.10, 0.10))\n",
        "initial_estimate.insert(L1, gtsam.Point2(14.0, 12.10))\n",
        "initial_estimate.insert(L2, gtsam.Point2(14.10, 11.80))\n",
        "\n",
        "# Print\n",
        "print(\"Initial Estimate:\\n{}\".format(initial_estimate))\n",
        "\n",
        "# Optimize using Levenberg-Marquardt optimization. The optimizer\n",
        "# accepts an optional set of configuration parameters, controlling\n",
        "# things like convergence criteria, the type of linear system solver\n",
        "# to use, and the amount of information displayed during optimization.\n",
        "# Here we will use the default set of parameters.  See the\n",
        "# documentation for the full set of parameters.\n",
        "params = gtsam.LevenbergMarquardtParams()\n",
        "optimizer = gtsam.LevenbergMarquardtOptimizer(graph, initial_estimate,\n",
        "                                                params)\n",
        "result = optimizer.optimize()\n",
        "print(\"\\nFinal Result:\\n{}\".format(result))\n",
        "\n",
        "# Calculate and print marginal covariances for all variables\n",
        "marginals = gtsam.Marginals(graph, result)\n",
        "for (key, s) in [(X1, \"X1\"), (X2, \"X2\"), (X3, \"X3\"), (X4, \"X4\"),\n",
        "                    (L1, \"L1\"), (L2, \"L2\")]:\n",
        "    print(\"{} covariance:\\n{}\\n\".format(s,\n",
        "                                        marginals.marginalCovariance(key)))"
      ],
      "metadata": {
        "colab": {
          "base_uri": "https://localhost:8080/"
        },
        "id": "biTbhvi_WFuN",
        "outputId": "2c960627-2527-42d7-a7bc-804624c45fd2"
      },
      "execution_count": null,
      "outputs": [
        {
          "output_type": "stream",
          "name": "stdout",
          "text": [
            "Factor Graph:\n",
            "NonlinearFactorGraph: size: 8\n",
            "\n",
            "Factor 0: PriorFactor on x1\n",
            "  prior mean:  (0, 0, 0)\n",
            "  noise model: diagonal sigmas [0.3; 0.3; 0.1];\n",
            "\n",
            "Factor 1: BetweenFactor(x1,x2)\n",
            "  measured:  (2, 0, 0)\n",
            "  noise model: diagonal sigmas [0.002; 0.002; 0.001];\n",
            "\n",
            "Factor 2: BetweenFactor(x2,x3)\n",
            "  measured:  (2, 0, 0)\n",
            "  noise model: diagonal sigmas [0.002; 0.002; 0.001];\n",
            "\n",
            "Factor 3: BetweenFactor(x3,x4)\n",
            "  measured:  (2, 0, 0)\n",
            "  noise model: diagonal sigmas [0.002; 0.002; 0.001];\n",
            "\n",
            "Factor 4: BetweenFactor(x1,x4)\n",
            "  measured:  (6, 0, 0)\n",
            "  noise model: diagonal sigmas [0.002; 0.002; 0.001];\n",
            "\n",
            "Factor 5: BearingRangeFactor\n",
            "Factor 5:   keys = { x1 l1 }\n",
            "  noise model: diagonal sigmas [0.001; 0.002];\n",
            "ExpressionFactor with measurement: bearing : 0.785398163\n",
            "range  2.82842712\n",
            "\n",
            "Factor 6: BearingRangeFactor\n",
            "Factor 6:   keys = { x2 l1 }\n",
            "  noise model: diagonal sigmas [0.001; 0.002];\n",
            "ExpressionFactor with measurement: bearing : 1.57079633\n",
            "range  2\n",
            "\n",
            "Factor 7: BearingRangeFactor\n",
            "Factor 7:   keys = { x3 l2 }\n",
            "  noise model: diagonal sigmas [0.001; 0.002];\n",
            "ExpressionFactor with measurement: bearing : 1.57079633\n",
            "range  2\n",
            "\n",
            "\n",
            "Initial Estimate:\n",
            "Values with 6 values:\n",
            "Value l1: (Eigen::Matrix<double, -1, 1, 0, -1, 1>)\n",
            "[\n",
            "\t14;\n",
            "\t12.1\n",
            "]\n",
            "\n",
            "Value l2: (Eigen::Matrix<double, -1, 1, 0, -1, 1>)\n",
            "[\n",
            "\t14.1;\n",
            "\t11.8\n",
            "]\n",
            "\n",
            "Value x1: (gtsam::Pose2)\n",
            "(-0.25, 0.2, 0.15)\n",
            "\n",
            "Value x2: (gtsam::Pose2)\n",
            "(2.3, 0.1, -0.2)\n",
            "\n",
            "Value x3: (gtsam::Pose2)\n",
            "(4.1, 0.1, 0.1)\n",
            "\n",
            "Value x4: (gtsam::Pose2)\n",
            "(7.1, -3.1, 0.1)\n",
            "\n",
            "\n",
            "\n",
            "Final Result:\n",
            "Values with 6 values:\n",
            "Value l1: (Eigen::Matrix<double, -1, 1, 0, -1, 1>)\n",
            "[\n",
            "\t2;\n",
            "\t2\n",
            "]\n",
            "\n",
            "Value l2: (Eigen::Matrix<double, -1, 1, 0, -1, 1>)\n",
            "[\n",
            "\t4;\n",
            "\t2\n",
            "]\n",
            "\n",
            "Value x1: (gtsam::Pose2)\n",
            "(4.99600343e-18, 4.99600361e-18, 1.11022305e-18)\n",
            "\n",
            "Value x2: (gtsam::Pose2)\n",
            "(2, 8.89838188e-18, -2.15396278e-17)\n",
            "\n",
            "Value x3: (gtsam::Pose2)\n",
            "(4, -1.40486071e-17, -7.27907002e-18)\n",
            "\n",
            "Value x4: (gtsam::Pose2)\n",
            "(6, -8.47470263e-18, -3.08442348e-18)\n",
            "\n",
            "\n",
            "X1 covariance:\n",
            "[[ 9.00000000e-02 -5.89352567e-14  1.57160684e-13]\n",
            " [-5.89352567e-14  9.00000000e-02 -2.09547579e-13]\n",
            " [ 1.57160684e-13 -2.09547579e-13  1.00000000e-02]]\n",
            "\n",
            "X2 covariance:\n",
            "[[ 9.00023982e-02 -2.12781406e-07  2.14998304e-07]\n",
            " [-2.12781406e-07  1.30002466e-01  1.99997998e-02]\n",
            " [ 2.14998304e-07  1.99997998e-02  1.00004315e-02]]\n",
            "\n",
            "X3 covariance:\n",
            "[[9.00037325e-02 5.31960596e-08 6.50167870e-08]\n",
            " [5.31960596e-08 2.50004409e-01 3.99996114e-02]\n",
            " [6.50167870e-08 3.99996114e-02 1.00006361e-02]]\n",
            "\n",
            "X4 covariance:\n",
            "[[9.00029331e-02 4.58078968e-08 1.62542874e-08]\n",
            " [4.58078968e-08 4.50003350e-01 6.00002209e-02]\n",
            " [1.62542874e-08 6.00002209e-02 1.00006590e-02]]\n",
            "\n",
            "L1 covariance:\n",
            "[[ 0.13000344 -0.04000055]\n",
            " [-0.04000055  0.13000318]]\n",
            "\n",
            "L2 covariance:\n",
            "[[ 0.13001002 -0.07999917]\n",
            " [-0.07999917  0.25000841]]\n",
            "\n"
          ]
        }
      ]
    },
    {
      "cell_type": "code",
      "source": [
        "# for i in range(1, 3):\n",
        "#     gtsam_plot.plot_pose2(0, result.atPose2(i), 0.5,\n",
        "#                             marginals.marginalCovariance(i))\n",
        "\n",
        "for (key, s) in [(X1, \"X1\"), (X2, \"X2\"), (X3, \"X3\"), (X4, \"X4\")]:\n",
        "\n",
        "    m = marginals.marginalCovariance(key)\n",
        "    # print(\"{} covariance:\\n{}\\n\".format(s, m))\n",
        "    gtsam_plot.plot_pose2(0, result.atPose2(key), 0.5, m)\n",
        "\n",
        "for (key, s) in [(L1, \"L1\"), (L2, \"L2\")]:\n",
        "\n",
        "    m = marginals.marginalCovariance(key)\n",
        "    gtsam_plot.plot_point2(0, result.atPoint2(key), 0.5, m)\n",
        "\n",
        "plt.axis('equal')\n",
        "plt.show()"
      ],
      "metadata": {
        "id": "yHMAO3OjWSg_",
        "colab": {
          "base_uri": "https://localhost:8080/",
          "height": 449
        },
        "outputId": "228dd965-cb28-46c0-de06-b91c17ec86ac"
      },
      "execution_count": null,
      "outputs": [
        {
          "output_type": "display_data",
          "data": {
            "text/plain": [
              "<Figure size 640x480 with 1 Axes>"
            ],
            "image/png": "[encoded data removed]"
          },
          "metadata": {}
        }
      ]
    },
    {
      "cell_type": "markdown",
      "source": [
        "# For AA 273"
      ],
      "metadata": {
        "id": "tZ-NNqdhuWj9"
      }
    },
    {
      "cell_type": "code",
      "source": [
        "\"\"\"Main runner\"\"\"\n",
        "\n",
        "# Create an empty nonlinear factor graph\n",
        "graph = gtsam.NonlinearFactorGraph()\n",
        "\n",
        "# Create the keys corresponding to unknown variables in the factor graph\n",
        "X1 = X(1)\n",
        "X2 = X(2)\n",
        "L1 = L(1)\n",
        "L2 = L(2)\n",
        "L3 = L(3)\n",
        "\n",
        "# Add a prior on pose X1 at the origin. A prior factor consists of a mean and a noise model\n",
        "graph.add(\n",
        "    gtsam.PriorFactorPose2(X1, gtsam.Pose2(0.0, 0.0, 0.0), PRIOR_NOISE))\n",
        "\n",
        "# Add odometry factors between X1,X2, respectively\n",
        "graph.add(\n",
        "    gtsam.BetweenFactorPose2(X1, X2, gtsam.Pose2(3.0, 0.0, 0.0),\n",
        "                                ODOMETRY_NOISE))\n",
        "\n",
        "# Add Range-Bearing measurements to two different landmarks L1 and L2\n",
        "graph.add(\n",
        "    gtsam.BearingRangeFactor2D(X1, L1,\n",
        "                               gtsam.Rot2.fromDegrees(np.rad2deg(-2.35619449019234)),\n",
        "                               np.sqrt(2),\n",
        "                               MEASUREMENT_NOISE))\n",
        "graph.add(\n",
        "    gtsam.BearingRangeFactor2D(X1, L2,\n",
        "                               gtsam.Rot2.fromDegrees(np.rad2deg(2.356194490192344837)),\n",
        "                               np.sqrt(2),\n",
        "                               MEASUREMENT_NOISE))\n",
        "graph.add(\n",
        "    gtsam.BearingRangeFactor2D(X2, L3,\n",
        "                               gtsam.Rot2.fromDegrees(np.rad2deg(0.4636476090008061490)),\n",
        "                               2.23606797749978980,\n",
        "                               MEASUREMENT_NOISE))\n",
        "\n",
        "# Print graph\n",
        "print(\"Factor Graph:\\n{}\".format(graph))\n",
        "\n",
        "# Create (deliberately inaccurate) initial estimate\n",
        "initial_estimate = gtsam.Values()\n",
        "initial_estimate.insert(X1, gtsam.Pose2(0.1, 0.2, 0.15))\n",
        "initial_estimate.insert(X2, gtsam.Pose2(0.13, 0.12, -0.2))\n",
        "initial_estimate.insert(L1, gtsam.Point2(14.0, 12.10))\n",
        "initial_estimate.insert(L2, gtsam.Point2(14.10, 11.80))\n",
        "initial_estimate.insert(L3, gtsam.Point2(14.10, 11.80))\n",
        "\n",
        "# Print\n",
        "print(\"Initial Estimate:\\n{}\".format(initial_estimate))\n",
        "\n",
        "# Optimize using Levenberg-Marquardt optimization. The optimizer\n",
        "# accepts an optional set of configuration parameters, controlling\n",
        "# things like convergence criteria, the type of linear system solver\n",
        "# to use, and the amount of information displayed during optimization.\n",
        "# Here we will use the default set of parameters.  See the\n",
        "# documentation for the full set of parameters.\n",
        "params = gtsam.LevenbergMarquardtParams()\n",
        "optimizer = gtsam.LevenbergMarquardtOptimizer(graph, initial_estimate,\n",
        "                                                params)\n",
        "result = optimizer.optimize()\n",
        "print(\"\\nFinal Result:\\n{}\".format(result))\n",
        "\n",
        "# Calculate and print marginal covariances for all variables\n",
        "marginals = gtsam.Marginals(graph, result)\n",
        "for (key, s) in [(X1, \"X1\"), (X2, \"X2\"),\n",
        "                    (L1, \"L1\"), (L2, \"L2\"), (L3, \"L3\")]:\n",
        "    print(\"{} covariance:\\n{}\\n\".format(s,\n",
        "                                        marginals.marginalCovariance(key)))"
      ],
      "metadata": {
        "colab": {
          "base_uri": "https://localhost:8080/"
        },
        "id": "xPwT-r9AuYVA",
        "outputId": "dba94f30-6489-4e6a-8709-3166aed6776f"
      },
      "execution_count": null,
      "outputs": [
        {
          "output_type": "stream",
          "name": "stdout",
          "text": [
            "Factor Graph:\n",
            "NonlinearFactorGraph: size: 5\n",
            "\n",
            "Factor 0: PriorFactor on x1\n",
            "  prior mean:  (0, 0, 0)\n",
            "  noise model: diagonal sigmas [0.3; 0.3; 0.1];\n",
            "\n",
            "Factor 1: BetweenFactor(x1,x2)\n",
            "  measured:  (3, 0, 0)\n",
            "  noise model: diagonal sigmas [0.002; 0.002; 0.001];\n",
            "\n",
            "Factor 2: BearingRangeFactor\n",
            "Factor 2:   keys = { x1 l1 }\n",
            "  noise model: diagonal sigmas [0.001; 0.002];\n",
            "ExpressionFactor with measurement: bearing : -2.35619449\n",
            "range  1.41421356\n",
            "\n",
            "Factor 3: BearingRangeFactor\n",
            "Factor 3:   keys = { x1 l2 }\n",
            "  noise model: diagonal sigmas [0.001; 0.002];\n",
            "ExpressionFactor with measurement: bearing : 2.35619449\n",
            "range  1.41421356\n",
            "\n",
            "Factor 4: BearingRangeFactor\n",
            "Factor 4:   keys = { x2 l3 }\n",
            "  noise model: diagonal sigmas [0.001; 0.002];\n",
            "ExpressionFactor with measurement: bearing : 0.463647609\n",
            "range  2.23606798\n",
            "\n",
            "\n",
            "Initial Estimate:\n",
            "Values with 5 values:\n",
            "Value l1: (Eigen::Matrix<double, -1, 1, 0, -1, 1>)\n",
            "[\n",
            "\t14;\n",
            "\t12.1\n",
            "]\n",
            "\n",
            "Value l2: (Eigen::Matrix<double, -1, 1, 0, -1, 1>)\n",
            "[\n",
            "\t14.1;\n",
            "\t11.8\n",
            "]\n",
            "\n",
            "Value l3: (Eigen::Matrix<double, -1, 1, 0, -1, 1>)\n",
            "[\n",
            "\t14.1;\n",
            "\t11.8\n",
            "]\n",
            "\n",
            "Value x1: (gtsam::Pose2)\n",
            "(0.1, 0.2, 0.15)\n",
            "\n",
            "Value x2: (gtsam::Pose2)\n",
            "(0.13, 0.12, -0.2)\n",
            "\n",
            "\n",
            "\n",
            "Final Result:\n",
            "Values with 5 values:\n",
            "Value l1: (Eigen::Matrix<double, -1, 1, 0, -1, 1>)\n",
            "[\n",
            "\t-1;\n",
            "\t-1\n",
            "]\n",
            "\n",
            "Value l2: (Eigen::Matrix<double, -1, 1, 0, -1, 1>)\n",
            "[\n",
            "\t-1;\n",
            "\t1\n",
            "]\n",
            "\n",
            "Value l3: (Eigen::Matrix<double, -1, 1, 0, -1, 1>)\n",
            "[\n",
            "\t5;\n",
            "\t1\n",
            "]\n",
            "\n",
            "Value x1: (gtsam::Pose2)\n",
            "(-2.52958869e-11, 1.91868655e-12, 6.05482296e-12)\n",
            "\n",
            "Value x2: (gtsam::Pose2)\n",
            "(3, 2.00823313e-11, 6.05489839e-12)\n",
            "\n",
            "\n",
            "X1 covariance:\n",
            "[[ 9.00000000e-02 -1.17845642e-13 -1.96480128e-13]\n",
            " [-1.17845642e-13  9.00000000e-02  2.57270297e-25]\n",
            " [-1.96480128e-13  2.57270297e-25  1.00000000e-02]]\n",
            "\n",
            "X2 covariance:\n",
            "[[ 9.00040000e-02 -7.07259751e-13 -1.96475304e-13]\n",
            " [-7.07259751e-13  1.80004000e-01  3.00000000e-02]\n",
            " [-1.96475304e-13  3.00000000e-02  1.00010000e-02]]\n",
            "\n",
            "L1 covariance:\n",
            "[[ 0.100003 -0.009999]\n",
            " [-0.009999  0.100003]]\n",
            "\n",
            "L2 covariance:\n",
            "[[0.100003 0.009999]\n",
            " [0.009999 0.100003]]\n",
            "\n",
            "L3 covariance:\n",
            "[[ 0.1000092 -0.0500024]\n",
            " [-0.0500024  0.3400128]]\n",
            "\n"
          ]
        }
      ]
    },
    {
      "cell_type": "code",
      "source": [
        "for (key, s) in [(X1, \"X1\"), (X2, \"X2\")]:\n",
        "\n",
        "    m = marginals.marginalCovariance(key)\n",
        "    # print(\"{} covariance:\\n{}\\n\".format(s, m))\n",
        "    gtsam_plot.plot_pose2(0, result.atPose2(key), 0.5, m)\n",
        "\n",
        "for (key, s) in [(L1, \"L1\"), (L2, \"L2\"), (L3, \"L3\")]:\n",
        "\n",
        "    m = marginals.marginalCovariance(key)\n",
        "    gtsam_plot.plot_point2(0, result.atPoint2(key), 0.5, m)\n",
        "\n",
        "plt.axis('equal')\n",
        "plt.show()"
      ],
      "metadata": {
        "colab": {
          "base_uri": "https://localhost:8080/",
          "height": 449
        },
        "id": "Z4aR95SXv8dZ",
        "outputId": "3c9ee13a-320d-46bf-9c48-245363c5107a"
      },
      "execution_count": null,
      "outputs": [
        {
          "output_type": "display_data",
          "data": {
            "text/plain": [
              "<Figure size 640x480 with 1 Axes>"
            ],
            "image/png": "[encoded data removed]"
          },
          "metadata": {}
        }
      ]
    }
  ]
}